{
  "nbformat": 4,
  "nbformat_minor": 0,
  "metadata": {
    "colab": {
      "provenance": [],
      "authorship_tag": "ABX9TyMwdT+R14ExX1eQe/7Obx0d",
      "include_colab_link": true
    },
    "kernelspec": {
      "name": "python3",
      "display_name": "Python 3"
    },
    "language_info": {
      "name": "python"
    }
  },
  "cells": [
    {
      "cell_type": "markdown",
      "metadata": {
        "id": "view-in-github",
        "colab_type": "text"
      },
      "source": [
        "<a href=\"https://colab.research.google.com/github/niola-liberty/Django-crud/blob/main/testing.ipynb\" target=\"_parent\"><img src=\"https://colab.research.google.com/assets/colab-badge.svg\" alt=\"Open In Colab\"/></a>"
      ]
    },
    {
      "cell_type": "code",
      "execution_count": null,
      "metadata": {
        "colab": {
          "base_uri": "https://localhost:8080/"
        },
        "id": "6rui1BMmzjwH",
        "outputId": "b9f775a3-8fb7-4da9-cee4-9573d9da6a90"
      },
      "outputs": [
        {
          "output_type": "stream",
          "name": "stdout",
          "text": [
            "Hello world!\n"
          ]
        }
      ],
      "source": [
        "msg = 'Hello world!'\n",
        "print(msg)"
      ]
    },
    {
      "cell_type": "markdown",
      "source": [
        "# Hopefully, there isn't much difference between Jupyter Notebook and Google Colab\n",
        "\n",
        "## Here we go"
      ],
      "metadata": {
        "id": "4hZrPTxu0O4J"
      }
    },
    {
      "cell_type": "code",
      "source": [
        "msg = 'Hello world!'\n",
        "print(msg)"
      ],
      "metadata": {
        "colab": {
          "base_uri": "https://localhost:8080/"
        },
        "id": "e_DQ8dzi0idT",
        "outputId": "21bbe1ce-b4dd-4990-fbea-2ed023569957"
      },
      "execution_count": null,
      "outputs": [
        {
          "output_type": "stream",
          "name": "stdout",
          "text": [
            "Hello world!\n"
          ]
        }
      ]
    },
    {
      "cell_type": "markdown",
      "source": [
        "1"
      ],
      "metadata": {
        "id": "CtPolCp-1Dul"
      }
    }
  ]
}